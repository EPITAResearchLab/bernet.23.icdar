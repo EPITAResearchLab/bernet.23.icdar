{
    "cells": [
        {
            "attachments": {},
            "cell_type": "markdown",
            "metadata": {},
            "source": [
                "# Interactive demo notebook\n",
                "\n",
                "This notebook is used as a sandbox to test the line detector changing their parameters.\n",
                "You can test different line detector on your own images.\n",
                "\n",
                "You can test the line detector on the dataset used for the benchmark setting the path in the file [lsd_path_dataset.py](lsd_path_dataset.py) at the root of the repository.\n",
                "\n",
                "Depending on the output type (vector or pixel) the evaluation of the detection will be displayed (if a ground truth exists).\n",
                "\n",
                "Two different tools application after a line detection are available:\n",
                "- Angle detection using the vectorial output of the line detectors using the file [naive_determine_angle.ipynb](naive_determine_angle.ipynb)\n",
                "- Line removal using the pixel output of the line detectors using the file [remove_line.ipynb](remove_line.ipynb)"
            ]
        },
        {
            "cell_type": "code",
            "execution_count": null,
            "metadata": {},
            "outputs": [],
            "source": [
                "from demo_utils import line_detector_sandbox"
            ]
        },
        {
            "cell_type": "code",
            "execution_count": null,
            "metadata": {},
            "outputs": [],
            "source": [
                "import matplotlib\n",
                "\n",
                "%matplotlib widget\n",
                "matplotlib.rcParams[\"figure.figsize\"] = (12, 10)"
            ]
        },
        {
            "cell_type": "code",
            "execution_count": null,
            "metadata": {},
            "outputs": [],
            "source": [
                "line_detector_sandbox()"
            ]
        }
    ],
    "metadata": {
        "kernelspec": {
            "display_name": "lsd_venv",
            "language": "python",
            "name": "python3"
        },
        "language_info": {
            "codemirror_mode": {
                "name": "ipython",
                "version": 3
            },
            "file_extension": ".py",
            "mimetype": "text/x-python",
            "name": "python",
            "nbconvert_exporter": "python",
            "pygments_lexer": "ipython3",
            "version": "3.10.6"
        },
        "orig_nbformat": 4,
        "vscode": {
            "interpreter": {
                "hash": "670fea2cd828d5d425dcff52cbdc464e6699c6e20c86f84523ef8d207eb5f10d"
            }
        }
    },
    "nbformat": 4,
    "nbformat_minor": 2
}
